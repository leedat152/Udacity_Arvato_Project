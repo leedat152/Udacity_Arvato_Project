{
 "cells": [
  {
   "cell_type": "markdown",
   "metadata": {},
   "source": [
    "# Capstone Project: Create a Customer Segmentation Report for Arvato Financial Services\n",
    "\n",
    "In this project, you will analyze demographics data for customers of a mail-order sales company in Germany, comparing it against demographics information for the general population. You'll use unsupervised learning techniques to perform customer segmentation, identifying the parts of the population that best describe the core customer base of the company. Then, you'll apply what you've learned on a third dataset with demographics information for targets of a marketing campaign for the company, and use a model to predict which individuals are most likely to convert into becoming customers for the company. The data that you will use has been provided by our partners at Bertelsmann Arvato Analytics, and represents a real-life data science task.\n",
    "\n",
    "If you completed the first term of this program, you will be familiar with the first part of this project, from the unsupervised learning project. The versions of those two datasets used in this project will include many more features and has not been pre-cleaned. You are also free to choose whatever approach you'd like to analyzing the data rather than follow pre-determined steps. In your work on this project, make sure that you carefully document your steps and decisions, since your main deliverable for this project will be a blog post reporting your findings."
   ]
  },
  {
   "cell_type": "code",
   "execution_count": 66,
   "metadata": {},
   "outputs": [],
   "source": [
    "# import libraries here; add more as necessary\n",
    "import importlib\n",
    "import numpy as np\n",
    "import pandas as pd\n",
    "import matplotlib.pyplot as plt\n",
    "import seaborn as sns\n",
    "\n",
    "\n",
    "from sklearn.preprocessing import StandardScaler, MinMaxScaler\n",
    "from sklearn.impute import SimpleImputer\n",
    "from sklearn.decomposition import PCA\n",
    "from sklearn.cluster import KMeans, MiniBatchKMeans\n",
    "\n",
    "from scipy import stats\n",
    "\n",
    "import utils\n",
    "from utils import *\n",
    "\n",
    "\n",
    "# magic word for producing visualizations in notebook\n",
    "%matplotlib inline"
   ]
  },
  {
   "cell_type": "markdown",
   "metadata": {},
   "source": [
    "## Part 1\n",
    "\n",
    "There are four data files associated with this project:\n",
    "\n",
    "- `Udacity_AZDIAS_052018.csv`: Demographics data for the general population of Germany; 891 211 persons (rows) x 366 features (columns).\n",
    "- `Udacity_CUSTOMERS_052018.csv`: Demographics data for customers of a mail-order company; 191 652 persons (rows) x 369 features (columns).\n",
    "- `Udacity_MAILOUT_052018_TRAIN.csv`: Demographics data for individuals who were targets of a marketing campaign; 42 982 persons (rows) x 367 (columns).\n",
    "- `Udacity_MAILOUT_052018_TEST.csv`: Demographics data for individuals who were targets of a marketing campaign; 42 833 persons (rows) x 366 (columns).\n",
    "\n",
    "Each row of the demographics files represents a single person, but also includes information outside of individuals, including information about their household, building, and neighborhood. Use the information from the first two files to figure out how customers (\"CUSTOMERS\") are similar to or differ from the general population at large (\"AZDIAS\"), then use your analysis to make predictions on the other two files (\"MAILOUT\"), predicting which recipients are most likely to become a customer for the mail-order company.\n",
    "\n",
    "The \"CUSTOMERS\" file contains three extra columns ('CUSTOMER_GROUP', 'ONLINE_PURCHASE', and 'PRODUCT_GROUP'), which provide broad information about the customers depicted in the file. The original \"MAILOUT\" file included one additional column, \"RESPONSE\", which indicated whether or not each recipient became a customer of the company. For the \"TRAIN\" subset, this column has been retained, but in the \"TEST\" subset it has been removed; it is against that withheld column that your final predictions will be assessed in the Kaggle competition.\n",
    "\n",
    "Otherwise, all of the remaining columns are the same between the three data files. For more information about the columns depicted in the files, you can refer to two Excel spreadsheets provided in the workspace. [One of them](./DIAS Information Levels - Attributes 2017.xlsx) is a top-level list of attributes and descriptions, organized by informational category. [The other](./DIAS Attributes - Values 2017.xlsx) is a detailed mapping of data values for each feature in alphabetical order.\n",
    "\n",
    "In the below cell, we've provided some initial code to load in the first two datasets. Note for all of the `.csv` data files in this project that they're semicolon (`;`) delimited, so an additional argument in the [`read_csv()`](https://pandas.pydata.org/pandas-docs/stable/generated/pandas.read_csv.html) call has been included to read in the data properly. Also, considering the size of the datasets, it may take some time for them to load completely.\n",
    "\n",
    "You'll notice when the data is loaded in that a warning message will immediately pop up. Before you really start digging into the modeling and analysis, you're going to need to perform some cleaning. Take some time to browse the structure of the data and look over the informational spreadsheets to understand the data values. Make some decisions on which features to keep, which features to drop, and if any revisions need to be made on data formats. It'll be a good idea to create a function with pre-processing steps, since you'll need to clean all of the datasets before you work with them."
   ]
  },
  {
   "cell_type": "code",
   "execution_count": 2,
   "metadata": {
    "scrolled": false
   },
   "outputs": [
    {
     "name": "stderr",
     "output_type": "stream",
     "text": [
      "<string>:2: DtypeWarning: Columns (19,20) have mixed types. Specify dtype option on import or set low_memory=False.\n"
     ]
    },
    {
     "name": "stdout",
     "output_type": "stream",
     "text": [
      "CPU times: user 33.1 s, sys: 16.9 s, total: 50.1 s\n",
      "Wall time: 52.4 s\n"
     ]
    }
   ],
   "source": [
    "%%time\n",
    "# load in the data\n",
    "azdias = pd.read_csv('azdias.csv')\n",
    "azdias.drop(columns='Unnamed: 0', inplace=True)\n",
    "customers = pd.read_csv('customers.csv')\n",
    "customers.drop(columns='Unnamed: 0', inplace=True)"
   ]
  },
  {
   "cell_type": "code",
   "execution_count": 4,
   "metadata": {},
   "outputs": [],
   "source": [
    "#load the info of features and keeping only rows that contains unknown values\n",
    "feature_value = pd.read_excel('attribute_values.xlsx',header=1)\n",
    "feature_value.drop(columns='Unnamed: 0', inplace=True)\n",
    "feature_value['Attribute']= feature_value['Attribute'].ffill()\n"
   ]
  },
  {
   "cell_type": "markdown",
   "metadata": {},
   "source": [
    "## 1.1 Get to know dataset"
   ]
  },
  {
   "cell_type": "markdown",
   "metadata": {},
   "source": [
    "**azdias**"
   ]
  },
  {
   "cell_type": "code",
   "execution_count": 5,
   "metadata": {},
   "outputs": [
    {
     "data": {
      "text/plain": [
       "(891221, 366)"
      ]
     },
     "execution_count": 5,
     "metadata": {},
     "output_type": "execute_result"
    }
   ],
   "source": [
    "azdias.shape"
   ]
  },
  {
   "cell_type": "code",
   "execution_count": 6,
   "metadata": {},
   "outputs": [
    {
     "data": {
      "text/html": [
       "<div>\n",
       "<style scoped>\n",
       "    .dataframe tbody tr th:only-of-type {\n",
       "        vertical-align: middle;\n",
       "    }\n",
       "\n",
       "    .dataframe tbody tr th {\n",
       "        vertical-align: top;\n",
       "    }\n",
       "\n",
       "    .dataframe thead th {\n",
       "        text-align: right;\n",
       "    }\n",
       "</style>\n",
       "<table border=\"1\" class=\"dataframe\">\n",
       "  <thead>\n",
       "    <tr style=\"text-align: right;\">\n",
       "      <th></th>\n",
       "      <th>LNR</th>\n",
       "      <th>AGER_TYP</th>\n",
       "      <th>AKT_DAT_KL</th>\n",
       "      <th>ALTER_HH</th>\n",
       "      <th>ALTER_KIND1</th>\n",
       "      <th>ALTER_KIND2</th>\n",
       "      <th>ALTER_KIND3</th>\n",
       "      <th>ALTER_KIND4</th>\n",
       "      <th>ALTERSKATEGORIE_FEIN</th>\n",
       "      <th>ANZ_HAUSHALTE_AKTIV</th>\n",
       "      <th>...</th>\n",
       "      <th>VHN</th>\n",
       "      <th>VK_DHT4A</th>\n",
       "      <th>VK_DISTANZ</th>\n",
       "      <th>VK_ZG11</th>\n",
       "      <th>W_KEIT_KIND_HH</th>\n",
       "      <th>WOHNDAUER_2008</th>\n",
       "      <th>WOHNLAGE</th>\n",
       "      <th>ZABEOTYP</th>\n",
       "      <th>ANREDE_KZ</th>\n",
       "      <th>ALTERSKATEGORIE_GROB</th>\n",
       "    </tr>\n",
       "  </thead>\n",
       "  <tbody>\n",
       "    <tr>\n",
       "      <th>0</th>\n",
       "      <td>910215</td>\n",
       "      <td>-1</td>\n",
       "      <td>NaN</td>\n",
       "      <td>NaN</td>\n",
       "      <td>NaN</td>\n",
       "      <td>NaN</td>\n",
       "      <td>NaN</td>\n",
       "      <td>NaN</td>\n",
       "      <td>NaN</td>\n",
       "      <td>NaN</td>\n",
       "      <td>...</td>\n",
       "      <td>NaN</td>\n",
       "      <td>NaN</td>\n",
       "      <td>NaN</td>\n",
       "      <td>NaN</td>\n",
       "      <td>NaN</td>\n",
       "      <td>NaN</td>\n",
       "      <td>NaN</td>\n",
       "      <td>3</td>\n",
       "      <td>1</td>\n",
       "      <td>2</td>\n",
       "    </tr>\n",
       "    <tr>\n",
       "      <th>1</th>\n",
       "      <td>910220</td>\n",
       "      <td>-1</td>\n",
       "      <td>9.0</td>\n",
       "      <td>0.0</td>\n",
       "      <td>NaN</td>\n",
       "      <td>NaN</td>\n",
       "      <td>NaN</td>\n",
       "      <td>NaN</td>\n",
       "      <td>21.0</td>\n",
       "      <td>11.0</td>\n",
       "      <td>...</td>\n",
       "      <td>4.0</td>\n",
       "      <td>8.0</td>\n",
       "      <td>11.0</td>\n",
       "      <td>10.0</td>\n",
       "      <td>3.0</td>\n",
       "      <td>9.0</td>\n",
       "      <td>4.0</td>\n",
       "      <td>5</td>\n",
       "      <td>2</td>\n",
       "      <td>1</td>\n",
       "    </tr>\n",
       "    <tr>\n",
       "      <th>2</th>\n",
       "      <td>910225</td>\n",
       "      <td>-1</td>\n",
       "      <td>9.0</td>\n",
       "      <td>17.0</td>\n",
       "      <td>NaN</td>\n",
       "      <td>NaN</td>\n",
       "      <td>NaN</td>\n",
       "      <td>NaN</td>\n",
       "      <td>17.0</td>\n",
       "      <td>10.0</td>\n",
       "      <td>...</td>\n",
       "      <td>2.0</td>\n",
       "      <td>9.0</td>\n",
       "      <td>9.0</td>\n",
       "      <td>6.0</td>\n",
       "      <td>3.0</td>\n",
       "      <td>9.0</td>\n",
       "      <td>2.0</td>\n",
       "      <td>5</td>\n",
       "      <td>2</td>\n",
       "      <td>3</td>\n",
       "    </tr>\n",
       "    <tr>\n",
       "      <th>3</th>\n",
       "      <td>910226</td>\n",
       "      <td>2</td>\n",
       "      <td>1.0</td>\n",
       "      <td>13.0</td>\n",
       "      <td>NaN</td>\n",
       "      <td>NaN</td>\n",
       "      <td>NaN</td>\n",
       "      <td>NaN</td>\n",
       "      <td>13.0</td>\n",
       "      <td>1.0</td>\n",
       "      <td>...</td>\n",
       "      <td>0.0</td>\n",
       "      <td>7.0</td>\n",
       "      <td>10.0</td>\n",
       "      <td>11.0</td>\n",
       "      <td>NaN</td>\n",
       "      <td>9.0</td>\n",
       "      <td>7.0</td>\n",
       "      <td>3</td>\n",
       "      <td>2</td>\n",
       "      <td>4</td>\n",
       "    </tr>\n",
       "    <tr>\n",
       "      <th>4</th>\n",
       "      <td>910241</td>\n",
       "      <td>-1</td>\n",
       "      <td>1.0</td>\n",
       "      <td>20.0</td>\n",
       "      <td>NaN</td>\n",
       "      <td>NaN</td>\n",
       "      <td>NaN</td>\n",
       "      <td>NaN</td>\n",
       "      <td>14.0</td>\n",
       "      <td>3.0</td>\n",
       "      <td>...</td>\n",
       "      <td>2.0</td>\n",
       "      <td>3.0</td>\n",
       "      <td>5.0</td>\n",
       "      <td>4.0</td>\n",
       "      <td>2.0</td>\n",
       "      <td>9.0</td>\n",
       "      <td>3.0</td>\n",
       "      <td>4</td>\n",
       "      <td>1</td>\n",
       "      <td>3</td>\n",
       "    </tr>\n",
       "  </tbody>\n",
       "</table>\n",
       "<p>5 rows × 366 columns</p>\n",
       "</div>"
      ],
      "text/plain": [
       "      LNR  AGER_TYP  AKT_DAT_KL  ALTER_HH  ALTER_KIND1  ALTER_KIND2  \\\n",
       "0  910215        -1         NaN       NaN          NaN          NaN   \n",
       "1  910220        -1         9.0       0.0          NaN          NaN   \n",
       "2  910225        -1         9.0      17.0          NaN          NaN   \n",
       "3  910226         2         1.0      13.0          NaN          NaN   \n",
       "4  910241        -1         1.0      20.0          NaN          NaN   \n",
       "\n",
       "   ALTER_KIND3  ALTER_KIND4  ALTERSKATEGORIE_FEIN  ANZ_HAUSHALTE_AKTIV  ...  \\\n",
       "0          NaN          NaN                   NaN                  NaN  ...   \n",
       "1          NaN          NaN                  21.0                 11.0  ...   \n",
       "2          NaN          NaN                  17.0                 10.0  ...   \n",
       "3          NaN          NaN                  13.0                  1.0  ...   \n",
       "4          NaN          NaN                  14.0                  3.0  ...   \n",
       "\n",
       "   VHN  VK_DHT4A  VK_DISTANZ  VK_ZG11  W_KEIT_KIND_HH  WOHNDAUER_2008  \\\n",
       "0  NaN       NaN         NaN      NaN             NaN             NaN   \n",
       "1  4.0       8.0        11.0     10.0             3.0             9.0   \n",
       "2  2.0       9.0         9.0      6.0             3.0             9.0   \n",
       "3  0.0       7.0        10.0     11.0             NaN             9.0   \n",
       "4  2.0       3.0         5.0      4.0             2.0             9.0   \n",
       "\n",
       "   WOHNLAGE ZABEOTYP ANREDE_KZ ALTERSKATEGORIE_GROB  \n",
       "0       NaN        3         1                    2  \n",
       "1       4.0        5         2                    1  \n",
       "2       2.0        5         2                    3  \n",
       "3       7.0        3         2                    4  \n",
       "4       3.0        4         1                    3  \n",
       "\n",
       "[5 rows x 366 columns]"
      ]
     },
     "execution_count": 6,
     "metadata": {},
     "output_type": "execute_result"
    }
   ],
   "source": [
    "azdias.head()"
   ]
  },
  {
   "cell_type": "markdown",
   "metadata": {},
   "source": [
    "**Customers**"
   ]
  },
  {
   "cell_type": "code",
   "execution_count": 7,
   "metadata": {},
   "outputs": [
    {
     "data": {
      "text/plain": [
       "(191652, 369)"
      ]
     },
     "execution_count": 7,
     "metadata": {},
     "output_type": "execute_result"
    }
   ],
   "source": [
    "customers.shape"
   ]
  },
  {
   "cell_type": "code",
   "execution_count": 8,
   "metadata": {},
   "outputs": [
    {
     "data": {
      "text/html": [
       "<div>\n",
       "<style scoped>\n",
       "    .dataframe tbody tr th:only-of-type {\n",
       "        vertical-align: middle;\n",
       "    }\n",
       "\n",
       "    .dataframe tbody tr th {\n",
       "        vertical-align: top;\n",
       "    }\n",
       "\n",
       "    .dataframe thead th {\n",
       "        text-align: right;\n",
       "    }\n",
       "</style>\n",
       "<table border=\"1\" class=\"dataframe\">\n",
       "  <thead>\n",
       "    <tr style=\"text-align: right;\">\n",
       "      <th></th>\n",
       "      <th>LNR</th>\n",
       "      <th>AGER_TYP</th>\n",
       "      <th>AKT_DAT_KL</th>\n",
       "      <th>ALTER_HH</th>\n",
       "      <th>ALTER_KIND1</th>\n",
       "      <th>ALTER_KIND2</th>\n",
       "      <th>ALTER_KIND3</th>\n",
       "      <th>ALTER_KIND4</th>\n",
       "      <th>ALTERSKATEGORIE_FEIN</th>\n",
       "      <th>ANZ_HAUSHALTE_AKTIV</th>\n",
       "      <th>...</th>\n",
       "      <th>VK_ZG11</th>\n",
       "      <th>W_KEIT_KIND_HH</th>\n",
       "      <th>WOHNDAUER_2008</th>\n",
       "      <th>WOHNLAGE</th>\n",
       "      <th>ZABEOTYP</th>\n",
       "      <th>PRODUCT_GROUP</th>\n",
       "      <th>CUSTOMER_GROUP</th>\n",
       "      <th>ONLINE_PURCHASE</th>\n",
       "      <th>ANREDE_KZ</th>\n",
       "      <th>ALTERSKATEGORIE_GROB</th>\n",
       "    </tr>\n",
       "  </thead>\n",
       "  <tbody>\n",
       "    <tr>\n",
       "      <th>0</th>\n",
       "      <td>9626</td>\n",
       "      <td>2</td>\n",
       "      <td>1.0</td>\n",
       "      <td>10.0</td>\n",
       "      <td>NaN</td>\n",
       "      <td>NaN</td>\n",
       "      <td>NaN</td>\n",
       "      <td>NaN</td>\n",
       "      <td>10.0</td>\n",
       "      <td>1.0</td>\n",
       "      <td>...</td>\n",
       "      <td>2.0</td>\n",
       "      <td>6.0</td>\n",
       "      <td>9.0</td>\n",
       "      <td>7.0</td>\n",
       "      <td>3</td>\n",
       "      <td>COSMETIC_AND_FOOD</td>\n",
       "      <td>MULTI_BUYER</td>\n",
       "      <td>0</td>\n",
       "      <td>1</td>\n",
       "      <td>4</td>\n",
       "    </tr>\n",
       "    <tr>\n",
       "      <th>1</th>\n",
       "      <td>9628</td>\n",
       "      <td>-1</td>\n",
       "      <td>9.0</td>\n",
       "      <td>11.0</td>\n",
       "      <td>NaN</td>\n",
       "      <td>NaN</td>\n",
       "      <td>NaN</td>\n",
       "      <td>NaN</td>\n",
       "      <td>NaN</td>\n",
       "      <td>NaN</td>\n",
       "      <td>...</td>\n",
       "      <td>3.0</td>\n",
       "      <td>0.0</td>\n",
       "      <td>9.0</td>\n",
       "      <td>NaN</td>\n",
       "      <td>3</td>\n",
       "      <td>FOOD</td>\n",
       "      <td>SINGLE_BUYER</td>\n",
       "      <td>0</td>\n",
       "      <td>1</td>\n",
       "      <td>4</td>\n",
       "    </tr>\n",
       "    <tr>\n",
       "      <th>2</th>\n",
       "      <td>143872</td>\n",
       "      <td>-1</td>\n",
       "      <td>1.0</td>\n",
       "      <td>6.0</td>\n",
       "      <td>NaN</td>\n",
       "      <td>NaN</td>\n",
       "      <td>NaN</td>\n",
       "      <td>NaN</td>\n",
       "      <td>0.0</td>\n",
       "      <td>1.0</td>\n",
       "      <td>...</td>\n",
       "      <td>11.0</td>\n",
       "      <td>6.0</td>\n",
       "      <td>9.0</td>\n",
       "      <td>2.0</td>\n",
       "      <td>3</td>\n",
       "      <td>COSMETIC_AND_FOOD</td>\n",
       "      <td>MULTI_BUYER</td>\n",
       "      <td>0</td>\n",
       "      <td>2</td>\n",
       "      <td>4</td>\n",
       "    </tr>\n",
       "    <tr>\n",
       "      <th>3</th>\n",
       "      <td>143873</td>\n",
       "      <td>1</td>\n",
       "      <td>1.0</td>\n",
       "      <td>8.0</td>\n",
       "      <td>NaN</td>\n",
       "      <td>NaN</td>\n",
       "      <td>NaN</td>\n",
       "      <td>NaN</td>\n",
       "      <td>8.0</td>\n",
       "      <td>0.0</td>\n",
       "      <td>...</td>\n",
       "      <td>2.0</td>\n",
       "      <td>NaN</td>\n",
       "      <td>9.0</td>\n",
       "      <td>7.0</td>\n",
       "      <td>1</td>\n",
       "      <td>COSMETIC</td>\n",
       "      <td>MULTI_BUYER</td>\n",
       "      <td>0</td>\n",
       "      <td>1</td>\n",
       "      <td>4</td>\n",
       "    </tr>\n",
       "    <tr>\n",
       "      <th>4</th>\n",
       "      <td>143874</td>\n",
       "      <td>-1</td>\n",
       "      <td>1.0</td>\n",
       "      <td>20.0</td>\n",
       "      <td>NaN</td>\n",
       "      <td>NaN</td>\n",
       "      <td>NaN</td>\n",
       "      <td>NaN</td>\n",
       "      <td>14.0</td>\n",
       "      <td>7.0</td>\n",
       "      <td>...</td>\n",
       "      <td>4.0</td>\n",
       "      <td>2.0</td>\n",
       "      <td>9.0</td>\n",
       "      <td>3.0</td>\n",
       "      <td>1</td>\n",
       "      <td>FOOD</td>\n",
       "      <td>MULTI_BUYER</td>\n",
       "      <td>0</td>\n",
       "      <td>1</td>\n",
       "      <td>3</td>\n",
       "    </tr>\n",
       "  </tbody>\n",
       "</table>\n",
       "<p>5 rows × 369 columns</p>\n",
       "</div>"
      ],
      "text/plain": [
       "      LNR  AGER_TYP  AKT_DAT_KL  ALTER_HH  ALTER_KIND1  ALTER_KIND2  \\\n",
       "0    9626         2         1.0      10.0          NaN          NaN   \n",
       "1    9628        -1         9.0      11.0          NaN          NaN   \n",
       "2  143872        -1         1.0       6.0          NaN          NaN   \n",
       "3  143873         1         1.0       8.0          NaN          NaN   \n",
       "4  143874        -1         1.0      20.0          NaN          NaN   \n",
       "\n",
       "   ALTER_KIND3  ALTER_KIND4  ALTERSKATEGORIE_FEIN  ANZ_HAUSHALTE_AKTIV  ...  \\\n",
       "0          NaN          NaN                  10.0                  1.0  ...   \n",
       "1          NaN          NaN                   NaN                  NaN  ...   \n",
       "2          NaN          NaN                   0.0                  1.0  ...   \n",
       "3          NaN          NaN                   8.0                  0.0  ...   \n",
       "4          NaN          NaN                  14.0                  7.0  ...   \n",
       "\n",
       "   VK_ZG11  W_KEIT_KIND_HH  WOHNDAUER_2008  WOHNLAGE  ZABEOTYP  \\\n",
       "0      2.0             6.0             9.0       7.0         3   \n",
       "1      3.0             0.0             9.0       NaN         3   \n",
       "2     11.0             6.0             9.0       2.0         3   \n",
       "3      2.0             NaN             9.0       7.0         1   \n",
       "4      4.0             2.0             9.0       3.0         1   \n",
       "\n",
       "       PRODUCT_GROUP  CUSTOMER_GROUP ONLINE_PURCHASE ANREDE_KZ  \\\n",
       "0  COSMETIC_AND_FOOD     MULTI_BUYER               0         1   \n",
       "1               FOOD    SINGLE_BUYER               0         1   \n",
       "2  COSMETIC_AND_FOOD     MULTI_BUYER               0         2   \n",
       "3           COSMETIC     MULTI_BUYER               0         1   \n",
       "4               FOOD     MULTI_BUYER               0         1   \n",
       "\n",
       "  ALTERSKATEGORIE_GROB  \n",
       "0                    4  \n",
       "1                    4  \n",
       "2                    4  \n",
       "3                    4  \n",
       "4                    3  \n",
       "\n",
       "[5 rows x 369 columns]"
      ]
     },
     "execution_count": 8,
     "metadata": {},
     "output_type": "execute_result"
    }
   ],
   "source": [
    "customers.head()"
   ]
  },
  {
   "cell_type": "markdown",
   "metadata": {
    "scrolled": true
   },
   "source": [
    "Customers has 3 extra columns which are ('CUSTOMER_GROUP', 'ONLINE_PURCHASE', and 'PRODUCT_GROUP'. So we drop these 3 columns that make features identical to azdias dataset"
   ]
  },
  {
   "cell_type": "code",
   "execution_count": 9,
   "metadata": {},
   "outputs": [
    {
     "data": {
      "text/plain": [
       "(191652, 366)"
      ]
     },
     "execution_count": 9,
     "metadata": {},
     "output_type": "execute_result"
    }
   ],
   "source": [
    "drop_cols = ['PRODUCT_GROUP','CUSTOMER_GROUP','ONLINE_PURCHASE']\n",
    "customers.drop(columns=drop_cols, axis=1, inplace=True)\n",
    "customers.shape"
   ]
  },
  {
   "cell_type": "markdown",
   "metadata": {},
   "source": [
    "**Attributes**"
   ]
  },
  {
   "cell_type": "code",
   "execution_count": 10,
   "metadata": {},
   "outputs": [
    {
     "name": "stdout",
     "output_type": "stream",
     "text": [
      "attribute contains: 314 unqiue attributes and 4 columns\n"
     ]
    }
   ],
   "source": [
    "print('attribute contains: {} unqiue attributes and {} columns'.format(feature_value['Attribute'].nunique(),feature_value.shape[1]))"
   ]
  },
  {
   "cell_type": "markdown",
   "metadata": {},
   "source": [
    "**Have a quick look at attribute_values, I noticed that there are 3 types of NaN values**\n",
    "- unknown\n",
    "- no transaction known \n",
    "- no transactions known\n",
    "- no Online-transactions within the last 12 months<br>\n",
    "\n",
    "**Therefore, we will have 4 dataframe: unknown_df, transaction_df, transactions_df,online_transactions_df**\n"
   ]
  },
  {
   "cell_type": "markdown",
   "metadata": {},
   "source": [
    ">  **unknown_df**"
   ]
  },
  {
   "cell_type": "code",
   "execution_count": 11,
   "metadata": {},
   "outputs": [
    {
     "data": {
      "text/plain": [
       "-1       138\n",
       "-1, 9     75\n",
       "-1, 0     16\n",
       "0          2\n",
       "-1         1\n",
       "Name: Value, dtype: int64"
      ]
     },
     "execution_count": 11,
     "metadata": {},
     "output_type": "execute_result"
    }
   ],
   "source": [
    "unknown_df = feature_value[feature_value['Meaning']=='unknown']\n",
    "unknown_df.Value.value_counts()"
   ]
  },
  {
   "cell_type": "code",
   "execution_count": 12,
   "metadata": {},
   "outputs": [
    {
     "name": "stdout",
     "output_type": "stream",
     "text": [
      "unknow_feature_9list:  75\n",
      "unknow_feature_neg1_list:  139\n",
      "unknow_feature_0list:  18\n"
     ]
    }
   ],
   "source": [
    "# get the feature filled with 9 \n",
    "unknow_feature_9list= unknown_df[unknown_df.Value.str.contains('9', na=False)].Attribute.tolist()\n",
    "print('unknow_feature_9list: ',len(unknow_feature_9list))\n",
    "\n",
    "# get the features filled with -1\n",
    "type_neg1_int =unknown_df[unknown_df['Value']==-1].Attribute.tolist()\n",
    "type_neg1_string = unknown_df[unknown_df['Value']=='-1'].Attribute.tolist()\n",
    "unknow_feature_neg1_list=type_neg1_int+type_neg1_string\n",
    "print('unknow_feature_neg1_list: ',len(unknow_feature_neg1_list))\n",
    "\n",
    "# get features filled with 0\n",
    "type_0_string= unknown_df[unknown_df.Value.str.contains('0', na=False)].Attribute.tolist()\n",
    "type_0_int =  unknown_df[unknown_df['Value']==0].Attribute.tolist()\n",
    "unknow_feature_0list=type_0_string+type_0_int\n",
    "print('unknow_feature_0list: ',len(unknow_feature_0list))"
   ]
  },
  {
   "cell_type": "markdown",
   "metadata": {},
   "source": [
    "> **transactions_df** "
   ]
  },
  {
   "cell_type": "code",
   "execution_count": 13,
   "metadata": {
    "scrolled": true
   },
   "outputs": [
    {
     "data": {
      "text/plain": [
       "10    12\n",
       "0     10\n",
       "Name: Value, dtype: int64"
      ]
     },
     "execution_count": 13,
     "metadata": {},
     "output_type": "execute_result"
    }
   ],
   "source": [
    "transactions_df = feature_value[feature_value['Meaning']=='no transactions known']\n",
    "transactions_df.Value.value_counts()"
   ]
  },
  {
   "cell_type": "code",
   "execution_count": 14,
   "metadata": {},
   "outputs": [
    {
     "name": "stdout",
     "output_type": "stream",
     "text": [
      "transactions_feature_0list:  10\n",
      "transactions_feature_10list:  12\n"
     ]
    }
   ],
   "source": [
    "#get the feature filled with 0\n",
    "transactions_feature_0list = transactions_df[transactions_df['Value']==0].Attribute.tolist()\n",
    "print('transactions_feature_0list: ', len(transactions_feature_0list))\n",
    "\n",
    "#get feature filled with 10\n",
    "transactions_feature_10list = transactions_df[transactions_df['Value']==10].Attribute.tolist()\n",
    "print('transactions_feature_10list: ', len(transactions_feature_10list))\n"
   ]
  },
  {
   "cell_type": "markdown",
   "metadata": {},
   "source": [
    "> **transaction_df**"
   ]
  },
  {
   "cell_type": "code",
   "execution_count": 15,
   "metadata": {
    "scrolled": false
   },
   "outputs": [
    {
     "data": {
      "text/plain": [
       "0    34\n",
       "Name: Value, dtype: int64"
      ]
     },
     "execution_count": 15,
     "metadata": {},
     "output_type": "execute_result"
    }
   ],
   "source": [
    "transaction_df = feature_value[feature_value['Meaning']=='no transaction known']\n",
    "transaction_df.Value.value_counts()"
   ]
  },
  {
   "cell_type": "code",
   "execution_count": 16,
   "metadata": {},
   "outputs": [
    {
     "name": "stdout",
     "output_type": "stream",
     "text": [
      "transaction_feature_0list:  34\n"
     ]
    }
   ],
   "source": [
    "#get feature filled with 0\n",
    "transaction_feature_0list = transaction_df[transaction_df['Value']==0].Attribute.tolist()\n",
    "print('transaction_feature_0list: ',len(transaction_feature_0list))"
   ]
  },
  {
   "cell_type": "markdown",
   "metadata": {},
   "source": [
    "> **online_transactions_df**"
   ]
  },
  {
   "cell_type": "code",
   "execution_count": 17,
   "metadata": {},
   "outputs": [
    {
     "data": {
      "text/plain": [
       "0    3\n",
       "Name: Value, dtype: int64"
      ]
     },
     "execution_count": 17,
     "metadata": {},
     "output_type": "execute_result"
    }
   ],
   "source": [
    "online_transactions_df = feature_value[feature_value['Meaning']=='no Online-transactions within the last 12 months']\n",
    "online_transactions_df.Value.value_counts()"
   ]
  },
  {
   "cell_type": "code",
   "execution_count": 18,
   "metadata": {},
   "outputs": [
    {
     "name": "stdout",
     "output_type": "stream",
     "text": [
      "online_transactions_feature_0list:  3\n"
     ]
    }
   ],
   "source": [
    "#get feature filled with 0\n",
    "online_transactions_feature_0list=online_transactions_df[online_transactions_df['Value']==0].Attribute.tolist()\n",
    "print('online_transactions_feature_0list: ', len(online_transactions_feature_0list))"
   ]
  },
  {
   "cell_type": "markdown",
   "metadata": {},
   "source": [
    "**Now its time to find out which features in azdias and customers needed to be filled**"
   ]
  },
  {
   "cell_type": "code",
   "execution_count": 19,
   "metadata": {},
   "outputs": [],
   "source": [
    "# Python program to illustrate the intersection \n",
    "# of two lists using set() method \n",
    "def intersection(lst1, lst2): \n",
    "    return list(set(lst1) & set(lst2))"
   ]
  },
  {
   "cell_type": "markdown",
   "metadata": {},
   "source": [
    "> **unknown_df**"
   ]
  },
  {
   "cell_type": "code",
   "execution_count": 20,
   "metadata": {},
   "outputs": [
    {
     "name": "stdout",
     "output_type": "stream",
     "text": [
      "unknown_columns_na_fill_neg1: 134\n",
      "unknown_columns_na_fill_9: 75\n",
      "unknown_columns_na_fill_0: 15\n"
     ]
    }
   ],
   "source": [
    "## Azdias\n",
    "unknown_columns_na_fill_neg1=intersection(azdias.columns.tolist(),unknow_feature_neg1_list)\n",
    "print('unknown_columns_na_fill_neg1:',len(unknown_columns_na_fill_neg1))\n",
    "\n",
    "unknown_columns_na_fill_9=(intersection(azdias.columns.tolist(),unknow_feature_9list))\n",
    "print('unknown_columns_na_fill_9:',len(unknown_columns_na_fill_9))\n",
    "\n",
    "unknown_columns_na_fill_0 = intersection(unknow_feature_0list, azdias.columns.tolist())\n",
    "print('unknown_columns_na_fill_0:',len(unknown_columns_na_fill_0))\n"
   ]
  },
  {
   "cell_type": "markdown",
   "metadata": {},
   "source": [
    "> **transactions_df**"
   ]
  },
  {
   "cell_type": "code",
   "execution_count": 21,
   "metadata": {},
   "outputs": [
    {
     "name": "stdout",
     "output_type": "stream",
     "text": [
      "transactions_columns_na_fill_0: 10\n",
      "transactions_columns_na_fill_10: 12\n"
     ]
    }
   ],
   "source": [
    "#azdias\n",
    "transactions_columns_na_fill_0  = intersection(azdias.columns.tolist(),transactions_feature_0list)\n",
    "print('transactions_columns_na_fill_0:',len(transactions_columns_na_fill_0))\n",
    "\n",
    "transactions_columns_na_fill_10  = intersection(azdias.columns.tolist(),transactions_feature_10list)\n",
    "print('transactions_columns_na_fill_10:',len(transactions_columns_na_fill_10))\n",
    "\n"
   ]
  },
  {
   "cell_type": "markdown",
   "metadata": {},
   "source": [
    "> **transaction_df**"
   ]
  },
  {
   "cell_type": "code",
   "execution_count": 22,
   "metadata": {},
   "outputs": [
    {
     "name": "stdout",
     "output_type": "stream",
     "text": [
      "transaction_columns_na_fill_0: 0\n"
     ]
    }
   ],
   "source": [
    "#azdias\n",
    "transaction_columns_na_fill_0  = intersection(azdias.columns.tolist(),transaction_feature_0list)\n",
    "print('transaction_columns_na_fill_0:',len(transaction_columns_na_fill_0))\n"
   ]
  },
  {
   "cell_type": "markdown",
   "metadata": {},
   "source": [
    "> **online_transactions_df**"
   ]
  },
  {
   "cell_type": "code",
   "execution_count": 23,
   "metadata": {},
   "outputs": [
    {
     "name": "stdout",
     "output_type": "stream",
     "text": [
      "online_transactions_columns_na_fill_0: 3\n"
     ]
    }
   ],
   "source": [
    "online_transactions_columns_na_fill_0  = intersection(azdias.columns.tolist(),online_transactions_feature_0list)\n",
    "print('online_transactions_columns_na_fill_0:',len(online_transactions_columns_na_fill_0))\n",
    "\n"
   ]
  },
  {
   "cell_type": "markdown",
   "metadata": {},
   "source": [
    "**SUMMARRY**<br>\n",
    "There are numbers of columns which contains NaN values to be filled in azdias and customers dataset:\n",
    " - unknown_columns_na_fill_neg1: 134\n",
    " - unknown_columns_na_fill_9: 75\n",
    " - unknown_columns_na_fill_0: 15\n",
    " - transactions_columns_na_fill_0: 10\n",
    " - transactions_columns_na_fill_10: 12\n",
    " - online_transactions_columns_na_fill_0: 3"
   ]
  },
  {
   "cell_type": "markdown",
   "metadata": {},
   "source": [
    "## 1.2 Get to know null data before preprocessing data"
   ]
  },
  {
   "cell_type": "code",
   "execution_count": 24,
   "metadata": {},
   "outputs": [
    {
     "data": {
      "text/plain": [
       "Text(0, 0.5, 'nb of null')"
      ]
     },
     "execution_count": 24,
     "metadata": {},
     "output_type": "execute_result"
    },
    {
     "data": {
      "image/png": "[encoded data removed]",
      "text/plain": [
       "<Figure size 1440x576 with 1 Axes>"
      ]
     },
     "metadata": {
      "needs_background": "light"
     },
     "output_type": "display_data"
    }
   ],
   "source": [
    "# get null data in azidas before processing data\n",
    "azdias_null = azdias.isnull().sum()\n",
    "\n",
    "#get top 50 features that have most null values and visuzlize\n",
    "azdias_null.sort_values(ascending=False)[:50].plot(kind='bar', figsize=(20,8), fontsize=13)\n",
    "plt.xlabel('Features', fontsize = 20)\n",
    "plt.ylabel('nb of null', fontsize = 20)"
   ]
  },
  {
   "cell_type": "code",
   "execution_count": 25,
   "metadata": {},
   "outputs": [
    {
     "name": "stdout",
     "output_type": "stream",
     "text": [
      "Percentage of missing data in columns \n",
      " ALTER_KIND4                    99.864792\n",
      "ALTER_KIND3                    99.307691\n",
      "ALTER_KIND2                    96.690047\n",
      "ALTER_KIND1                    90.904837\n",
      "EXTSEL992                      73.399639\n",
      "KK_KUNDENTYP                   65.596749\n",
      "ALTERSKATEGORIE_FEIN           29.504130\n",
      "D19_LETZTER_KAUF_BRANCHE       28.849522\n",
      "D19_LOTTO                      28.849522\n",
      "D19_VERSI_ONLINE_QUOTE_12      28.849522\n",
      "D19_BANKEN_ONLINE_QUOTE_12     28.849522\n",
      "D19_SOZIALES                   28.849522\n",
      "D19_GESAMT_ONLINE_QUOTE_12     28.849522\n",
      "D19_KONSUMTYP                  28.849522\n",
      "D19_TELKO_ONLINE_QUOTE_12      28.849522\n",
      "D19_VERSAND_ONLINE_QUOTE_12    28.849522\n",
      "KBA05_MOTOR                    14.959701\n",
      "KBA05_MOD8                     14.959701\n",
      "KBA05_MOD4                     14.959701\n",
      "KBA05_MOD3                     14.959701\n",
      "KBA05_MOD2                     14.959701\n",
      "KBA05_SEG1                     14.959701\n",
      "KBA05_MOD1                     14.959701\n",
      "KBA05_MAXVORB                  14.959701\n",
      "KBA05_MAXSEG                   14.959701\n",
      "KBA05_MAXHERST                 14.959701\n",
      "KBA05_MAXBJ                    14.959701\n",
      "KBA05_MAXAH                    14.959701\n",
      "KBA05_KW3                      14.959701\n",
      "KBA05_MOTRAD                   14.959701\n",
      "dtype: float64\n"
     ]
    }
   ],
   "source": [
    "#get top null percentage data in 30 columns\n",
    "azdias_null_percentage = azdias_null/len(azdias) *100\n",
    "print('Percentage of missing data in columns', '\\n', azdias_null_percentage.sort_values(ascending=False)[:30])"
   ]
  },
  {
   "cell_type": "code",
   "execution_count": 27,
   "metadata": {},
   "outputs": [
    {
     "name": "stdout",
     "output_type": "stream",
     "text": [
      "columns having missing values >0%: 273 features\n",
      "columns having missing values >5%: 253 features\n",
      "columns having missing values >10%: 237 features\n",
      "columns having missing values >15%: 16 features\n",
      "columns having missing values >20%: 16 features\n",
      "columns having missing values >25%: 16 features\n",
      "columns having missing values >30%: 6 features\n",
      "columns having missing values >35%: 6 features\n",
      "columns having missing values >40%: 6 features\n",
      "columns having missing values >45%: 6 features\n",
      "columns having missing values >50%: 6 features\n",
      "columns having missing values >55%: 6 features\n",
      "columns having missing values >60%: 6 features\n",
      "columns having missing values >65%: 6 features\n",
      "columns having missing values >70%: 5 features\n",
      "columns having missing values >75%: 4 features\n",
      "columns having missing values >80%: 4 features\n",
      "columns having missing values >85%: 4 features\n",
      "columns having missing values >90%: 4 features\n",
      "columns having missing values >95%: 3 features\n"
     ]
    },
    {
     "data": {
      "image/png": "[encoded data removed]",
      "text/plain": [
       "<Figure size 1080x720 with 1 Axes>"
      ]
     },
     "metadata": {
      "needs_background": "light"
     },
     "output_type": "display_data"
    }
   ],
   "source": [
    "#We can see that % of null data in columns ranges from 0 to 15% \n",
    "azdias_null_percentage.hist(bins = np.arange(0,100,5), figsize= (15,10))\n",
    "plt.xlabel('% of missing values', fontsize = 15)\n",
    "plt.ylabel('nb of features', fontsize = 15)\n",
    "for i in range(100):\n",
    "    if i%5 == 0:\n",
    "        print('columns having missing values >{}%: {} features'.format(i,len(azdias_null_percentage[azdias_null_percentage>i])))"
   ]
  },
  {
   "cell_type": "code",
   "execution_count": 28,
   "metadata": {},
   "outputs": [
    {
     "name": "stdout",
     "output_type": "stream",
     "text": [
      "Index(['ALTER_KIND1', 'ALTER_KIND2', 'ALTER_KIND3', 'ALTER_KIND4', 'EXTSEL992',\n",
      "       'KK_KUNDENTYP'],\n",
      "      dtype='object')\n"
     ]
    }
   ],
   "source": [
    "print(azdias_null_percentage[azdias_null_percentage>65].index)"
   ]
  },
  {
   "cell_type": "markdown",
   "metadata": {},
   "source": [
    "There are 6 features that pecentage of missing values is over 65%. These columns will be dropped in data preprocessing \n"
   ]
  },
  {
   "cell_type": "code",
   "execution_count": 29,
   "metadata": {},
   "outputs": [],
   "source": [
    "# Now we take a look at null values in each rows \n",
    "row_nans =azdias[azdias.isnull().sum(axis=1) > 0].isnull().sum(axis=1)\n"
   ]
  },
  {
   "cell_type": "code",
   "execution_count": 30,
   "metadata": {},
   "outputs": [
    {
     "data": {
      "text/plain": [
       "Text(0, 0.5, 'Nb of rows that has null value')"
      ]
     },
     "execution_count": 30,
     "metadata": {},
     "output_type": "execute_result"
    },
    {
     "data": {
      "image/png": "[encoded data removed]",
      "text/plain": [
       "<Figure size 1080x720 with 1 Axes>"
      ]
     },
     "metadata": {
      "needs_background": "light"
     },
     "output_type": "display_data"
    }
   ],
   "source": [
    "row_nans.hist(bins = np.arange(-0.5,row_nans.max()+1,1), figsize = (15,10))\n",
    "plt.xlabel('Nb of Features', fontSize = 20)\n",
    "plt.ylabel('Nb of rows that has null value', fontSize = 20)"
   ]
  },
  {
   "cell_type": "code",
   "execution_count": 31,
   "metadata": {},
   "outputs": [
    {
     "name": "stdout",
     "output_type": "stream",
     "text": [
      "890919 of rows missing 0 features \n",
      "889329 of rows missing 1 features \n",
      "882341 of rows missing 2 features \n",
      "862623 of rows missing 3 features \n",
      "743425 of rows missing 4 features \n",
      "552858 of rows missing 5 features \n",
      "391259 of rows missing 6 features \n",
      "339790 of rows missing 7 features \n",
      "326917 of rows missing 8 features \n",
      "321972 of rows missing 9 features \n",
      "320251 of rows missing 10 features \n",
      "318254 of rows missing 11 features \n",
      "316218 of rows missing 12 features \n",
      "314586 of rows missing 13 features \n",
      "310280 of rows missing 14 features \n",
      "243639 of rows missing 15 features \n",
      "157994 of rows missing 16 features \n",
      "152938 of rows missing 17 features \n",
      "148405 of rows missing 18 features \n",
      "147474 of rows missing 19 features \n",
      "146916 of rows missing 20 features \n",
      "145904 of rows missing 21 features \n",
      "144989 of rows missing 22 features \n",
      "144313 of rows missing 23 features \n",
      "143585 of rows missing 24 features \n",
      "142803 of rows missing 25 features \n",
      "142294 of rows missing 26 features \n",
      "141971 of rows missing 27 features \n",
      "141301 of rows missing 28 features \n",
      "140744 of rows missing 29 features \n",
      "140637 of rows missing 30 features \n",
      "140617 of rows missing 31 features \n",
      "140608 of rows missing 32 features \n",
      "140601 of rows missing 33 features \n",
      "140587 of rows missing 34 features \n",
      "140518 of rows missing 35 features \n",
      "140484 of rows missing 36 features \n",
      "140404 of rows missing 37 features \n",
      "140054 of rows missing 38 features \n",
      "139902 of rows missing 39 features \n",
      "139899 of rows missing 40 features \n",
      "139897 of rows missing 41 features \n",
      "139896 of rows missing 42 features \n",
      "139895 of rows missing 43 features \n",
      "139893 of rows missing 44 features \n",
      "139890 of rows missing 45 features \n",
      "139890 of rows missing 46 features \n",
      "139890 of rows missing 47 features \n",
      "139890 of rows missing 48 features \n",
      "139890 of rows missing 49 features \n",
      "139890 of rows missing 50 features \n",
      "139890 of rows missing 51 features \n",
      "139890 of rows missing 52 features \n",
      "139890 of rows missing 53 features \n",
      "139890 of rows missing 54 features \n",
      "139890 of rows missing 55 features \n",
      "139890 of rows missing 56 features \n",
      "139890 of rows missing 57 features \n",
      "139890 of rows missing 58 features \n",
      "139890 of rows missing 59 features \n",
      "139890 of rows missing 60 features \n",
      "139890 of rows missing 61 features \n",
      "139890 of rows missing 62 features \n",
      "139890 of rows missing 63 features \n",
      "139875 of rows missing 64 features \n",
      "139789 of rows missing 65 features \n",
      "139413 of rows missing 66 features \n",
      "138479 of rows missing 67 features \n",
      "135833 of rows missing 68 features \n",
      "131244 of rows missing 69 features \n",
      "127537 of rows missing 70 features \n",
      "124366 of rows missing 71 features \n",
      "120474 of rows missing 72 features \n",
      "118087 of rows missing 73 features \n",
      "117281 of rows missing 74 features \n",
      "116489 of rows missing 75 features \n",
      "115289 of rows missing 76 features \n",
      "114153 of rows missing 77 features \n",
      "112989 of rows missing 78 features \n",
      "110644 of rows missing 79 features \n",
      "108871 of rows missing 80 features \n",
      "108473 of rows missing 81 features \n",
      "107769 of rows missing 82 features \n",
      "107071 of rows missing 83 features \n",
      "106970 of rows missing 84 features \n",
      "106858 of rows missing 85 features \n",
      "106728 of rows missing 86 features \n",
      "106538 of rows missing 87 features \n",
      "106468 of rows missing 88 features \n",
      "106304 of rows missing 89 features \n",
      "106079 of rows missing 90 features \n",
      "106028 of rows missing 91 features \n",
      "105976 of rows missing 92 features \n",
      "105956 of rows missing 93 features \n",
      "105936 of rows missing 94 features \n",
      "105901 of rows missing 95 features \n",
      "105888 of rows missing 96 features \n",
      "105877 of rows missing 97 features \n",
      "105867 of rows missing 98 features \n",
      "105855 of rows missing 99 features \n",
      "105850 of rows missing 100 features \n",
      "105843 of rows missing 101 features \n",
      "105831 of rows missing 102 features \n",
      "105823 of rows missing 103 features \n",
      "105819 of rows missing 104 features \n",
      "105815 of rows missing 105 features \n",
      "105806 of rows missing 106 features \n",
      "105806 of rows missing 107 features \n",
      "105805 of rows missing 108 features \n",
      "105805 of rows missing 109 features \n",
      "105802 of rows missing 110 features \n",
      "105801 of rows missing 111 features \n",
      "105801 of rows missing 112 features \n",
      "105800 of rows missing 113 features \n",
      "105800 of rows missing 114 features \n",
      "105800 of rows missing 115 features \n",
      "105800 of rows missing 116 features \n",
      "105800 of rows missing 117 features \n",
      "105797 of rows missing 118 features \n",
      "105793 of rows missing 119 features \n",
      "105741 of rows missing 120 features \n",
      "105614 of rows missing 121 features \n",
      "105479 of rows missing 122 features \n",
      "105425 of rows missing 123 features \n",
      "105408 of rows missing 124 features \n",
      "105380 of rows missing 125 features \n",
      "105330 of rows missing 126 features \n",
      "105019 of rows missing 127 features \n",
      "104133 of rows missing 128 features \n",
      "102999 of rows missing 129 features \n",
      "102370 of rows missing 130 features \n",
      "102214 of rows missing 131 features \n",
      "102030 of rows missing 132 features \n",
      "101991 of rows missing 133 features \n",
      "101928 of rows missing 134 features \n",
      "101876 of rows missing 135 features \n",
      "101853 of rows missing 136 features \n",
      "101794 of rows missing 137 features \n",
      "101024 of rows missing 138 features \n",
      "99632 of rows missing 139 features \n",
      "99593 of rows missing 140 features \n",
      "99541 of rows missing 141 features \n",
      "99490 of rows missing 142 features \n",
      "99434 of rows missing 143 features \n",
      "99283 of rows missing 144 features \n",
      "99272 of rows missing 145 features \n",
      "99264 of rows missing 146 features \n",
      "99253 of rows missing 147 features \n",
      "99250 of rows missing 148 features \n",
      "99249 of rows missing 149 features \n",
      "99246 of rows missing 150 features \n",
      "99246 of rows missing 151 features \n",
      "99244 of rows missing 152 features \n",
      "99242 of rows missing 153 features \n",
      "99241 of rows missing 154 features \n",
      "99241 of rows missing 155 features \n",
      "99241 of rows missing 156 features \n",
      "99239 of rows missing 157 features \n",
      "99239 of rows missing 158 features \n",
      "99239 of rows missing 159 features \n",
      "99238 of rows missing 160 features \n",
      "99237 of rows missing 161 features \n",
      "99234 of rows missing 162 features \n",
      "99234 of rows missing 163 features \n",
      "99234 of rows missing 164 features \n",
      "99234 of rows missing 165 features \n",
      "99234 of rows missing 166 features \n",
      "99234 of rows missing 167 features \n",
      "99234 of rows missing 168 features \n",
      "99234 of rows missing 169 features \n",
      "99234 of rows missing 170 features \n",
      "99234 of rows missing 171 features \n",
      "99234 of rows missing 172 features \n",
      "99234 of rows missing 173 features \n",
      "99234 of rows missing 174 features \n",
      "99234 of rows missing 175 features \n",
      "99234 of rows missing 176 features \n",
      "99234 of rows missing 177 features \n",
      "99234 of rows missing 178 features \n",
      "99234 of rows missing 179 features \n",
      "99234 of rows missing 180 features \n",
      "99233 of rows missing 181 features \n",
      "99233 of rows missing 182 features \n",
      "99231 of rows missing 183 features \n",
      "99225 of rows missing 184 features \n",
      "99211 of rows missing 185 features \n",
      "99183 of rows missing 186 features \n",
      "99172 of rows missing 187 features \n",
      "99157 of rows missing 188 features \n",
      "99127 of rows missing 189 features \n",
      "99032 of rows missing 190 features \n",
      "98713 of rows missing 191 features \n",
      "98039 of rows missing 192 features \n",
      "97429 of rows missing 193 features \n",
      "96868 of rows missing 194 features \n",
      "95987 of rows missing 195 features \n",
      "95274 of rows missing 196 features \n",
      "94983 of rows missing 197 features \n",
      "94626 of rows missing 198 features \n",
      "94343 of rows missing 199 features \n",
      "94173 of rows missing 200 features \n",
      "94081 of rows missing 201 features \n",
      "93940 of rows missing 202 features \n",
      "93697 of rows missing 203 features \n",
      "93673 of rows missing 204 features \n",
      "93589 of rows missing 205 features \n",
      "93430 of rows missing 206 features \n",
      "93405 of rows missing 207 features \n",
      "93357 of rows missing 208 features \n",
      "93284 of rows missing 209 features \n",
      "93269 of rows missing 210 features \n",
      "93205 of rows missing 211 features \n",
      "93200 of rows missing 212 features \n",
      "93198 of rows missing 213 features \n",
      "93183 of rows missing 214 features \n",
      "93177 of rows missing 215 features \n",
      "93176 of rows missing 216 features \n",
      "93174 of rows missing 217 features \n",
      "93170 of rows missing 218 features \n",
      "93168 of rows missing 219 features \n",
      "93154 of rows missing 220 features \n",
      "93103 of rows missing 221 features \n",
      "92898 of rows missing 222 features \n",
      "92364 of rows missing 223 features \n",
      "89527 of rows missing 224 features \n",
      "84512 of rows missing 225 features \n",
      "80119 of rows missing 226 features \n",
      "78422 of rows missing 227 features \n",
      "78321 of rows missing 228 features \n",
      "78313 of rows missing 229 features \n",
      "78313 of rows missing 230 features \n",
      "78309 of rows missing 231 features \n",
      "78297 of rows missing 232 features \n",
      "78275 of rows missing 233 features \n",
      "78163 of rows missing 234 features \n",
      "76388 of rows missing 235 features \n",
      "73784 of rows missing 236 features \n",
      "73607 of rows missing 237 features \n",
      "73599 of rows missing 238 features \n",
      "73599 of rows missing 239 features \n",
      "73599 of rows missing 240 features \n",
      "73598 of rows missing 241 features \n",
      "73597 of rows missing 242 features \n",
      "73596 of rows missing 243 features \n",
      "73580 of rows missing 244 features \n",
      "73562 of rows missing 245 features \n",
      "73545 of rows missing 246 features \n",
      "73539 of rows missing 247 features \n",
      "73528 of rows missing 248 features \n",
      "73520 of rows missing 249 features \n",
      "73517 of rows missing 250 features \n",
      "73517 of rows missing 251 features \n",
      "45596 of rows missing 252 features \n",
      "18 of rows missing 253 features \n",
      "18 of rows missing 254 features \n",
      "18 of rows missing 255 features \n",
      "17 of rows missing 256 features \n",
      "17 of rows missing 257 features \n",
      "5 of rows missing 258 features \n",
      "0 of rows missing 259 features \n",
      "0 of rows missing 260 features \n",
      "0 of rows missing 261 features \n",
      "0 of rows missing 262 features \n",
      "0 of rows missing 263 features \n",
      "0 of rows missing 264 features \n",
      "0 of rows missing 265 features \n",
      "0 of rows missing 266 features \n",
      "0 of rows missing 267 features \n",
      "0 of rows missing 268 features \n",
      "0 of rows missing 269 features \n"
     ]
    }
   ],
   "source": [
    "for i in range(270):\n",
    "    print('{} of rows missing {} features '.format((row_nans>i).sum(),i))"
   ]
  },
  {
   "cell_type": "markdown",
   "metadata": {},
   "source": [
    "**For azdias dataset, as we see above, there is slightly changes in number of rows missing values starting at 17 features. So we will keep all the rows that missing less than or equal to 17 features. The rest will be dropped. This will be done in data preprocessing**\n",
    " - 6 columns will be dropped:  'ALTER_KIND1', 'ALTER_KIND2', 'ALTER_KIND3', 'ALTER_KIND4', 'EXTSEL992','KK_KUNDENTYP'\n",
    " - Rows that missing more than 17 features will be dropped"
   ]
  },
  {
   "cell_type": "markdown",
   "metadata": {},
   "source": [
    "We are done analysing rows and columns, lets have a look some uneccessary features or features containing categorical values"
   ]
  },
  {
   "cell_type": "code",
   "execution_count": 32,
   "metadata": {},
   "outputs": [
    {
     "data": {
      "text/plain": [
       "float64    267\n",
       "int64       93\n",
       "object       6\n",
       "dtype: int64"
      ]
     },
     "execution_count": 32,
     "metadata": {},
     "output_type": "execute_result"
    }
   ],
   "source": [
    "azdias.dtypes.value_counts()"
   ]
  },
  {
   "cell_type": "code",
   "execution_count": 33,
   "metadata": {},
   "outputs": [
    {
     "data": {
      "text/html": [
       "<div>\n",
       "<style scoped>\n",
       "    .dataframe tbody tr th:only-of-type {\n",
       "        vertical-align: middle;\n",
       "    }\n",
       "\n",
       "    .dataframe tbody tr th {\n",
       "        vertical-align: top;\n",
       "    }\n",
       "\n",
       "    .dataframe thead th {\n",
       "        text-align: right;\n",
       "    }\n",
       "</style>\n",
       "<table border=\"1\" class=\"dataframe\">\n",
       "  <thead>\n",
       "    <tr style=\"text-align: right;\">\n",
       "      <th></th>\n",
       "      <th>CAMEO_DEU_2015</th>\n",
       "      <th>CAMEO_DEUG_2015</th>\n",
       "      <th>CAMEO_INTL_2015</th>\n",
       "      <th>D19_LETZTER_KAUF_BRANCHE</th>\n",
       "      <th>EINGEFUEGT_AM</th>\n",
       "      <th>OST_WEST_KZ</th>\n",
       "    </tr>\n",
       "  </thead>\n",
       "  <tbody>\n",
       "    <tr>\n",
       "      <th>0</th>\n",
       "      <td>NaN</td>\n",
       "      <td>NaN</td>\n",
       "      <td>NaN</td>\n",
       "      <td>NaN</td>\n",
       "      <td>NaN</td>\n",
       "      <td>NaN</td>\n",
       "    </tr>\n",
       "    <tr>\n",
       "      <th>1</th>\n",
       "      <td>8A</td>\n",
       "      <td>8</td>\n",
       "      <td>51</td>\n",
       "      <td>NaN</td>\n",
       "      <td>1992-02-10 00:00:00</td>\n",
       "      <td>W</td>\n",
       "    </tr>\n",
       "    <tr>\n",
       "      <th>2</th>\n",
       "      <td>4C</td>\n",
       "      <td>4</td>\n",
       "      <td>24</td>\n",
       "      <td>D19_UNBEKANNT</td>\n",
       "      <td>1992-02-12 00:00:00</td>\n",
       "      <td>W</td>\n",
       "    </tr>\n",
       "    <tr>\n",
       "      <th>3</th>\n",
       "      <td>2A</td>\n",
       "      <td>2</td>\n",
       "      <td>12</td>\n",
       "      <td>D19_UNBEKANNT</td>\n",
       "      <td>1997-04-21 00:00:00</td>\n",
       "      <td>W</td>\n",
       "    </tr>\n",
       "    <tr>\n",
       "      <th>4</th>\n",
       "      <td>6B</td>\n",
       "      <td>6</td>\n",
       "      <td>43</td>\n",
       "      <td>D19_SCHUHE</td>\n",
       "      <td>1992-02-12 00:00:00</td>\n",
       "      <td>W</td>\n",
       "    </tr>\n",
       "    <tr>\n",
       "      <th>...</th>\n",
       "      <td>...</td>\n",
       "      <td>...</td>\n",
       "      <td>...</td>\n",
       "      <td>...</td>\n",
       "      <td>...</td>\n",
       "      <td>...</td>\n",
       "    </tr>\n",
       "    <tr>\n",
       "      <th>891216</th>\n",
       "      <td>7A</td>\n",
       "      <td>7</td>\n",
       "      <td>41</td>\n",
       "      <td>D19_HAUS_DEKO</td>\n",
       "      <td>1992-02-10 00:00:00</td>\n",
       "      <td>W</td>\n",
       "    </tr>\n",
       "    <tr>\n",
       "      <th>891217</th>\n",
       "      <td>9D</td>\n",
       "      <td>9</td>\n",
       "      <td>51</td>\n",
       "      <td>D19_UNBEKANNT</td>\n",
       "      <td>1992-02-10 00:00:00</td>\n",
       "      <td>W</td>\n",
       "    </tr>\n",
       "    <tr>\n",
       "      <th>891218</th>\n",
       "      <td>4C</td>\n",
       "      <td>4</td>\n",
       "      <td>24</td>\n",
       "      <td>D19_BEKLEIDUNG_GEH</td>\n",
       "      <td>1992-02-10 00:00:00</td>\n",
       "      <td>W</td>\n",
       "    </tr>\n",
       "    <tr>\n",
       "      <th>891219</th>\n",
       "      <td>9D</td>\n",
       "      <td>9</td>\n",
       "      <td>51</td>\n",
       "      <td>D19_UNBEKANNT</td>\n",
       "      <td>1992-02-12 00:00:00</td>\n",
       "      <td>W</td>\n",
       "    </tr>\n",
       "    <tr>\n",
       "      <th>891220</th>\n",
       "      <td>6B</td>\n",
       "      <td>6</td>\n",
       "      <td>43</td>\n",
       "      <td>NaN</td>\n",
       "      <td>1992-02-10 00:00:00</td>\n",
       "      <td>W</td>\n",
       "    </tr>\n",
       "  </tbody>\n",
       "</table>\n",
       "<p>891221 rows × 6 columns</p>\n",
       "</div>"
      ],
      "text/plain": [
       "       CAMEO_DEU_2015 CAMEO_DEUG_2015 CAMEO_INTL_2015  \\\n",
       "0                 NaN             NaN             NaN   \n",
       "1                  8A               8              51   \n",
       "2                  4C               4              24   \n",
       "3                  2A               2              12   \n",
       "4                  6B               6              43   \n",
       "...               ...             ...             ...   \n",
       "891216             7A               7              41   \n",
       "891217             9D               9              51   \n",
       "891218             4C               4              24   \n",
       "891219             9D               9              51   \n",
       "891220             6B               6              43   \n",
       "\n",
       "       D19_LETZTER_KAUF_BRANCHE        EINGEFUEGT_AM OST_WEST_KZ  \n",
       "0                           NaN                  NaN         NaN  \n",
       "1                           NaN  1992-02-10 00:00:00           W  \n",
       "2                 D19_UNBEKANNT  1992-02-12 00:00:00           W  \n",
       "3                 D19_UNBEKANNT  1997-04-21 00:00:00           W  \n",
       "4                    D19_SCHUHE  1992-02-12 00:00:00           W  \n",
       "...                         ...                  ...         ...  \n",
       "891216            D19_HAUS_DEKO  1992-02-10 00:00:00           W  \n",
       "891217            D19_UNBEKANNT  1992-02-10 00:00:00           W  \n",
       "891218       D19_BEKLEIDUNG_GEH  1992-02-10 00:00:00           W  \n",
       "891219            D19_UNBEKANNT  1992-02-12 00:00:00           W  \n",
       "891220                      NaN  1992-02-10 00:00:00           W  \n",
       "\n",
       "[891221 rows x 6 columns]"
      ]
     },
     "execution_count": 33,
     "metadata": {},
     "output_type": "execute_result"
    }
   ],
   "source": [
    "# There are 6 total features that are non-numerical values.\n",
    "#Have a look at them and decide which methods to do in data preprocessing\n",
    "azdias.loc[:, azdias.dtypes=='object']"
   ]
  },
  {
   "cell_type": "markdown",
   "metadata": {},
   "source": [
    "**These two features are unnecessary that contains many different items: D19_LETZTER_KAUF_BRANCHE, EINGEFUEGT_AM. These will be dropped in data preprocessing**"
   ]
  },
  {
   "cell_type": "markdown",
   "metadata": {},
   "source": [
    "let's have a look another 4 non-numerical features"
   ]
  },
  {
   "cell_type": "code",
   "execution_count": 34,
   "metadata": {
    "scrolled": true
   },
   "outputs": [
    {
     "data": {
      "text/plain": [
       "array([nan, '8A', '4C', '2A', '6B', '8C', '4A', '2D', '1A', '1E', '9D',\n",
       "       '5C', '8B', '7A', '5D', '9E', '9B', '1B', '3D', '4E', '4B', '3C',\n",
       "       '5A', '7B', '9A', '6D', '6E', '2C', '7C', '9C', '7D', '5E', '1D',\n",
       "       '8D', '6C', '6A', '5B', '4D', '3A', '2B', '7E', '3B', '6F', '5F',\n",
       "       '1C', 'XX'], dtype=object)"
      ]
     },
     "execution_count": 34,
     "metadata": {},
     "output_type": "execute_result"
    }
   ],
   "source": [
    "azdias['CAMEO_DEU_2015'].unique()"
   ]
  },
  {
   "cell_type": "code",
   "execution_count": 35,
   "metadata": {},
   "outputs": [
    {
     "data": {
      "text/plain": [
       "array([nan, 8.0, 4.0, 2.0, 6.0, 1.0, 9.0, 5.0, 7.0, 3.0, '4', '3', '7',\n",
       "       '2', '8', '9', '6', '5', '1', 'X'], dtype=object)"
      ]
     },
     "execution_count": 35,
     "metadata": {},
     "output_type": "execute_result"
    }
   ],
   "source": [
    "azdias['CAMEO_DEUG_2015'].unique()"
   ]
  },
  {
   "cell_type": "code",
   "execution_count": 36,
   "metadata": {},
   "outputs": [
    {
     "data": {
      "text/plain": [
       "array([nan, 51.0, 24.0, 12.0, 43.0, 54.0, 22.0, 14.0, 13.0, 15.0, 33.0,\n",
       "       41.0, 34.0, 55.0, 25.0, 23.0, 31.0, 52.0, 35.0, 45.0, 44.0, 32.0,\n",
       "       '22', '24', '41', '12', '54', '51', '44', '35', '23', '25', '14',\n",
       "       '34', '52', '55', '31', '32', '15', '13', '43', '33', '45', 'XX'],\n",
       "      dtype=object)"
      ]
     },
     "execution_count": 36,
     "metadata": {},
     "output_type": "execute_result"
    }
   ],
   "source": [
    "azdias['CAMEO_INTL_2015'].unique()"
   ]
  },
  {
   "cell_type": "code",
   "execution_count": 37,
   "metadata": {},
   "outputs": [
    {
     "data": {
      "text/plain": [
       "array([nan, 'W', 'O'], dtype=object)"
      ]
     },
     "execution_count": 37,
     "metadata": {},
     "output_type": "execute_result"
    }
   ],
   "source": [
    "azdias['OST_WEST_KZ'].unique()"
   ]
  },
  {
   "cell_type": "markdown",
   "metadata": {},
   "source": [
    "As wee save above:\n",
    "- CAMEO_DEU_2015, CAMEO_INTL_2015 have unknow XX values \n",
    "- CAMEO_DEUG_2015 have unknow X values<br> \n",
    "\n",
    "**These values (X, XX, nan) will replace with -1 as it was describe in features description, followed by encoding**"
   ]
  },
  {
   "cell_type": "markdown",
   "metadata": {},
   "source": [
    "**Summary for azdias dataset in data exploration:**\n",
    "- 8 columns will be dropped: 'ALTER_KIND1', 'ALTER_KIND2', 'ALTER_KIND3', 'ALTER_KIND4', 'EXTSEL992','KK_KUNDENTYP', 'D19_LETZTER_KAUF_BRANCHE', 'EINGEFUEGT_AM'\n",
    "- Rows that missing more than 17 features will be dropped\n",
    "- CAMEO_DEU_2015, CAMEO_INTL_2015 have unknow XX values, CAMEO_DEUG_2015 have unknow X values, which are replaced by -1 as description says\n",
    "- CAMEO_DEU_2015 is categorical values which is preprocessed by get_dummies function\n"
   ]
  },
  {
   "cell_type": "markdown",
   "metadata": {},
   "source": [
    "## 1.3 Data preprocessing"
   ]
  },
  {
   "cell_type": "markdown",
   "metadata": {},
   "source": [
    "**1.3.1 Drop columns and rows**"
   ]
  },
  {
   "cell_type": "code",
   "execution_count": 38,
   "metadata": {},
   "outputs": [
    {
     "name": "stdout",
     "output_type": "stream",
     "text": [
      "****** Step 1 - dropping rows *****\n",
      "Number of rows before dropping: 891221\n",
      "Number of rows after dropping: 738283\n",
      "\n",
      "****** Step 2 - dropping columns *****\n",
      "Number of features before dropping: 366\n",
      "Number of features after dropping: 358\n",
      "\n"
     ]
    }
   ],
   "source": [
    "#azdias\n",
    "df_azdias = drop_rows_cloumns(azdias,\n",
    "                           unknown_columns_na_fill_0,\n",
    "                           unknown_columns_na_fill_9,\n",
    "                           unknown_columns_na_fill_neg1,\n",
    "                           transactions_columns_na_fill_0,\n",
    "                           transactions_columns_na_fill_10,\n",
    "                           online_transactions_columns_na_fill_0) "
   ]
  },
  {
   "cell_type": "code",
   "execution_count": 39,
   "metadata": {},
   "outputs": [
    {
     "name": "stdout",
     "output_type": "stream",
     "text": [
      "****** Step 1 - dropping rows *****\n",
      "Number of rows before dropping: 191652\n",
      "Number of rows after dropping: 131998\n",
      "\n",
      "****** Step 2 - dropping columns *****\n",
      "Number of features before dropping: 366\n",
      "Number of features after dropping: 358\n",
      "\n"
     ]
    }
   ],
   "source": [
    "df_customers = drop_rows_cloumns(customers,\n",
    "                           unknown_columns_na_fill_0,\n",
    "                           unknown_columns_na_fill_9,\n",
    "                           unknown_columns_na_fill_neg1,\n",
    "                           transactions_columns_na_fill_0,\n",
    "                           transactions_columns_na_fill_10,\n",
    "                           online_transactions_columns_na_fill_0) "
   ]
  },
  {
   "cell_type": "markdown",
   "metadata": {},
   "source": [
    "**Let's drop some rows and columns that have most missing values**"
   ]
  },
  {
   "cell_type": "code",
   "execution_count": null,
   "metadata": {},
   "outputs": [],
   "source": [
    "# drop rows that missing more than 17 features\n",
    "# print('Number of rows before dropping: {}'.format(azdias.shape[0]))\n",
    "# azdias=azdias[azdias.isnull().sum(axis=1) <= 17].reset_index(drop=True)\n",
    "# print('Number of rows after dropping: {}'.format(azdias.shape[0]))"
   ]
  },
  {
   "cell_type": "markdown",
   "metadata": {},
   "source": [
    "**Before dropping any columns, lets fill NaN values in each columns with 9, 0, -1 and 10**"
   ]
  },
  {
   "cell_type": "code",
   "execution_count": null,
   "metadata": {},
   "outputs": [],
   "source": [
    "# fill unknown_df\n",
    "# azdias[unknown_columns_na_fill_0]=azdias[unknown_columns_na_fill_0].fillna(0)\n",
    "# azdias[unknown_columns_na_fill_9]=azdias[unknown_columns_na_fill_9].fillna(9)\n",
    "# azdias[unknown_columns_na_fill_neg1]=azdias[unknown_columns_na_fill_neg1].fillna(-1)\n",
    "\n",
    "# fill transactions_df\n",
    "# azdias[transactions_columns_na_fill_0]=azdias[transactions_columns_na_fill_0].fillna(0)\n",
    "# azdias[transactions_columns_na_fill_10]=azdias[transactions_columns_na_fill_10].fillna(10)\n",
    "\n",
    "# fill online_transactions_df\n",
    "# azdias[online_transactions_columns_na_fill_0]=azdias[online_transactions_columns_na_fill_0].fillna(0)\n",
    "\n"
   ]
  },
  {
   "cell_type": "markdown",
   "metadata": {},
   "source": [
    "**Now we drop some columns**"
   ]
  },
  {
   "cell_type": "code",
   "execution_count": null,
   "metadata": {},
   "outputs": [],
   "source": [
    "#drop 8 features: 6 features that percentage missing is over 65% \n",
    "#and 2 features that contains unnecessary different items:\n",
    "# drop_cols= ['ALTER_KIND1', 'ALTER_KIND2', 'ALTER_KIND3', 'ALTER_KIND4', 'EXTSEL992','KK_KUNDENTYP', 'D19_LETZTER_KAUF_BRANCHE', 'EINGEFUEGT_AM']\n",
    "# print('Number of features before dropping: {}'.format(azdias.shape[1]))\n",
    "# azdias.drop(drop_cols, axis=1, inplace=True)\n",
    "# print('Number of features after dropping: {}'.format(azdias.shape[1]))"
   ]
  },
  {
   "cell_type": "markdown",
   "metadata": {},
   "source": [
    "**1.3.2 Remove highly correlated features**"
   ]
  },
  {
   "cell_type": "markdown",
   "metadata": {},
   "source": [
    "**Before we fill nan values and encode categorical values, we will use this clean up step by trying to removing highly correlated columns <br>\n",
    "References:** `https://chrisalbon.com/machine_learning/feature_selection/drop_highly_correlated_features/`"
   ]
  },
  {
   "cell_type": "code",
   "execution_count": 40,
   "metadata": {},
   "outputs": [
    {
     "name": "stdout",
     "output_type": "stream",
     "text": [
      "****** Step 3 - Remove highly correlated features *****\n",
      "Number of features before removing highly correlated columns: 358\n",
      "Number of features after removing highly correlated columns: 338\n"
     ]
    }
   ],
   "source": [
    "#azdias\n",
    "df_azdias_correlated=remove_highly_correlated_columns(df_azdias, 0.9)"
   ]
  },
  {
   "cell_type": "code",
   "execution_count": 41,
   "metadata": {},
   "outputs": [
    {
     "name": "stdout",
     "output_type": "stream",
     "text": [
      "****** Step 3 - Remove highly correlated features *****\n",
      "Number of features before removing highly correlated columns: 358\n",
      "Number of features after removing highly correlated columns: 342\n"
     ]
    }
   ],
   "source": [
    "#customers\n",
    "df_customers_correlated=remove_highly_correlated_columns(df_customers, 0.9)"
   ]
  },
  {
   "cell_type": "code",
   "execution_count": null,
   "metadata": {},
   "outputs": [],
   "source": [
    "# %%time\n",
    "# # Create correlation matrix\n",
    "# corr_matrix = df_correlated_columns.corr().abs()\n",
    "\n",
    "# # Select upper triangle of correlation matrix\n",
    "# upper = corr_matrix.where(np.triu(np.ones(corr_matrix.shape), k=1).astype(np.bool))\n",
    "\n",
    "# # Find index of feature columns with correlation greater than 0.75\n",
    "# to_drop = [column for column in upper.columns if any(upper[column] > 0.75)]\n"
   ]
  },
  {
   "cell_type": "code",
   "execution_count": null,
   "metadata": {},
   "outputs": [],
   "source": [
    "# print('Number of features before removing highly correlated columns: {}'.format(df_correlated_columns.shape[1]))\n",
    "# df_correlated_columns.drop(to_drop, axis=1, inplace=True)\n",
    "# print('Number of features after removing highly correlated columns: {}'.format(df_correlated_columns.shape[1]))"
   ]
  },
  {
   "cell_type": "markdown",
   "metadata": {},
   "source": [
    "**1.3.3  Encode Categorical Features**"
   ]
  },
  {
   "cell_type": "code",
   "execution_count": 42,
   "metadata": {},
   "outputs": [
    {
     "name": "stdout",
     "output_type": "stream",
     "text": [
      "****** Step 4 - Encode Categorical Features *****\n",
      "number of features before encoding categorical: 338\n",
      "number of features agter encoding categorical:381 \n",
      "\n"
     ]
    }
   ],
   "source": [
    "#azdias\n",
    "df_azdias_encode = encode(df_azdias_correlated)"
   ]
  },
  {
   "cell_type": "code",
   "execution_count": 43,
   "metadata": {},
   "outputs": [
    {
     "name": "stdout",
     "output_type": "stream",
     "text": [
      "****** Step 4 - Encode Categorical Features *****\n",
      "number of features before encoding categorical: 342\n",
      "number of features agter encoding categorical:385 \n",
      "\n"
     ]
    }
   ],
   "source": [
    "#customers\n",
    "df_customers_encode = encode(df_customers_correlated)"
   ]
  },
  {
   "cell_type": "code",
   "execution_count": null,
   "metadata": {},
   "outputs": [],
   "source": [
    "# CAMEO_DEU_2015, CAMEO_INTL_2015 replaced by -1\n",
    "# df_encode[['CAMEO_INTL_2015','CAMEO_DEU_2015']]=df_encode[['CAMEO_INTL_2015','CAMEO_DEU_2015']].replace('XX', -1)\n",
    "# df_encode['CAMEO_INTL_2015']=df_encode['CAMEO_INTL_2015'].fillna(-1)\n",
    "# df_encode['CAMEO_INTL_2015']=df_encode['CAMEO_INTL_2015'].astype(int)"
   ]
  },
  {
   "cell_type": "code",
   "execution_count": null,
   "metadata": {},
   "outputs": [],
   "source": [
    "# CAMEO_DEUG_2015 replaced by -1\n",
    "# df_encode['CAMEO_DEUG_2015']=df_encode['CAMEO_DEUG_2015'].replace('X', -1)\n",
    "# df_encode['CAMEO_DEUG_2015']=df_encode['CAMEO_DEUG_2015'].fillna(-1)\n",
    "# df_encode['CAMEO_DEUG_2015']=df_encode['CAMEO_DEUG_2015'].astype(int)"
   ]
  },
  {
   "cell_type": "code",
   "execution_count": null,
   "metadata": {},
   "outputs": [],
   "source": [
    "# NaN values OST_WEST_KZ replaced by -1, followed by encoding 1 and 2 for O and W, respectively\n",
    "# df_encode['OST_WEST_KZ']=df_encode['OST_WEST_KZ'].fillna(-1)\n",
    "# df_encode['OST_WEST_KZ'] = df_encode['OST_WEST_KZ'].replace({'O':1, 'W':2})"
   ]
  },
  {
   "cell_type": "code",
   "execution_count": null,
   "metadata": {},
   "outputs": [],
   "source": [
    "# df_encode['ALTER_HH']=df_encode['ALTER_HH'].fillna(0)"
   ]
  },
  {
   "cell_type": "code",
   "execution_count": null,
   "metadata": {},
   "outputs": [],
   "source": [
    "#with  all null data now handled, we should focus on getting\n",
    "#objects/categorical variables to numbers via one hot encoding\n",
    "# print('number of features before encoding categorical: ', df_encode.shape[1])\n",
    "# df_encode = pd.get_dummies(df_encode, drop_first=True)\n",
    "# print('number of features agter encoding categorical: ', df_encode.shape[1])"
   ]
  },
  {
   "cell_type": "markdown",
   "metadata": {},
   "source": [
    "**1.3.4 Imputer NaN Values**"
   ]
  },
  {
   "cell_type": "code",
   "execution_count": 44,
   "metadata": {},
   "outputs": [
    {
     "name": "stdout",
     "output_type": "stream",
     "text": [
      "****** Step 5 - Impute values *****\n",
      "check NaN values in dataset: 0\n"
     ]
    }
   ],
   "source": [
    "#azdias\n",
    "df_azdias_impute = impute(df_azdias_encode)"
   ]
  },
  {
   "cell_type": "code",
   "execution_count": 45,
   "metadata": {},
   "outputs": [
    {
     "name": "stdout",
     "output_type": "stream",
     "text": [
      "****** Step 5 - Impute values *****\n",
      "check NaN values in dataset: 0\n"
     ]
    }
   ],
   "source": [
    "#customers\n",
    "df_customers_impute = impute(df_customers_encode)"
   ]
  },
  {
   "cell_type": "code",
   "execution_count": null,
   "metadata": {},
   "outputs": [],
   "source": [
    "# %%time\n",
    "# impute nans using mode value\n",
    "# imp = SimpleImputer(missing_values=np.nan, strategy='most_frequent')\n",
    "# df_impute = pd.DataFrame(imp.fit_transform(df_impute))\n",
    "# print('imputed azdias: ', df_impute.head(5))"
   ]
  },
  {
   "cell_type": "code",
   "execution_count": null,
   "metadata": {},
   "outputs": [],
   "source": [
    "#check any null values\n",
    "# (df_impute.isnull().sum()>0).sum()"
   ]
  },
  {
   "cell_type": "markdown",
   "metadata": {},
   "source": [
    "**1.3.5 Transform data**"
   ]
  },
  {
   "cell_type": "code",
   "execution_count": 46,
   "metadata": {},
   "outputs": [],
   "source": [
    "colummns_azdias = df_azdias_encode.columns\n",
    "colummns_customers = df_customers_encode.columns"
   ]
  },
  {
   "cell_type": "code",
   "execution_count": 47,
   "metadata": {},
   "outputs": [
    {
     "name": "stdout",
     "output_type": "stream",
     "text": [
      "****** Step 6 - Transform Dataset *****\n",
      "****** Step 6 - Transform Dataset *****\n"
     ]
    }
   ],
   "source": [
    "#Transform using StandardScaler\n",
    "df_azdias_standard = transform(df_azdias_impute, 'StandardScaler',colummns_azdias )\n",
    "df_customer_standard = transform(df_customers_impute,'StandardScaler', colummns_customers)"
   ]
  },
  {
   "cell_type": "code",
   "execution_count": 50,
   "metadata": {},
   "outputs": [
    {
     "name": "stdout",
     "output_type": "stream",
     "text": [
      "****** Step 6 - Transform Dataset *****\n",
      "****** Step 6 - Transform Dataset *****\n"
     ]
    }
   ],
   "source": [
    "#Transform using MinMaxScaler\n",
    "df_azdias_minmax = transform(df_azdias_impute, 'MinMaxScaler',colummns_azdias )\n",
    "df_customer_minmax = transform(df_customers_impute,'MinMaxScaler',colummns_customers )"
   ]
  },
  {
   "cell_type": "code",
   "execution_count": 53,
   "metadata": {},
   "outputs": [],
   "source": [
    "#save by using pickle \n",
    "#standard\n",
    "# df_azdias_standard.to_pickle('./data/clean_azdias_standard.ppl')\n",
    "# df_customer_standard.to_pickle('./data/clean_customers_standard.ppl')\n",
    "\n",
    "# #MinMaxScaler\n",
    "# df_azdias_minmax.to_pickle('./data/clean_azdias_minmax.ppl')\n",
    "# df_customer_minmax.to_pickle('./data/clean_customers_minmax.ppl')\n"
   ]
  },
  {
   "cell_type": "markdown",
   "metadata": {},
   "source": [
    "## Part 1: Customer Segmentation Report\n",
    "\n",
    "The main bulk of your analysis will come in this part of the project. Here, you should use unsupervised learning techniques to describe the relationship between the demographics of the company's existing customers and the general population of Germany. By the end of this part, you should be able to describe parts of the general population that are more likely to be part of the mail-order company's main customer base, and which parts of the general population are less so."
   ]
  },
  {
   "cell_type": "code",
   "execution_count": 16,
   "metadata": {},
   "outputs": [],
   "source": [
    "#loading clean dataset\n",
    "azdias = pd.read_pickle('data/clean_azdias_standard.ppl')\n",
    "customers = pd.read_pickle('data/clean_customers_standard.ppl')"
   ]
  },
  {
   "cell_type": "code",
   "execution_count": 19,
   "metadata": {},
   "outputs": [],
   "source": [
    "#apply PCA\n",
    "pca =PCA()\n",
    "\n",
    "#fir transform dataset\n",
    "azdias_pca = pca.fit_transform(azdias)"
   ]
  },
  {
   "cell_type": "code",
   "execution_count": 56,
   "metadata": {},
   "outputs": [
    {
     "data": {
      "text/plain": [
       "<matplotlib.collections.LineCollection at 0x1a2e6eefd0>"
      ]
     },
     "execution_count": 56,
     "metadata": {},
     "output_type": "execute_result"
    },
    {
     "data": {
      "image/png": "[encoded data removed]",
      "text/plain": [
       "<Figure size 1800x720 with 1 Axes>"
      ]
     },
     "metadata": {
      "needs_background": "light"
     },
     "output_type": "display_data"
    }
   ],
   "source": [
    "# Investigate the variance accounted for by each principal component.\n",
    "variance = pca.explained_variance_ratio_\n",
    "index = np.arange(len(variance))\n",
    "plt.figure(figsize=(25,10))\n",
    "plt.bar(index,np.cumsum(variance))\n",
    "plt.xlabel('number of components')\n",
    "plt.ylabel('cumulative explained variance')\n",
    "\n",
    "#200 components\n",
    "plt.hlines(y=0.92, xmin=0, xmax=220, color='red', linestyles='-',zorder=5)\n",
    "plt.vlines(x=220, ymin=0, ymax=0.92, color='red', linestyles='-',zorder=6)"
   ]
  },
  {
   "cell_type": "code",
   "execution_count": 57,
   "metadata": {},
   "outputs": [],
   "source": [
    "def reduce_data(df, n=220):\n",
    "    pca = PCA(n_components = n).fit(df)\n",
    "    reduced_data = pca.transform(df)\n",
    "    reduced_data = pd.DataFrame(reduced_data)\n",
    "    print(pca.explained_variance_ratio_.sum())\n",
    "    return reduced_data"
   ]
  },
  {
   "cell_type": "code",
   "execution_count": 58,
   "metadata": {},
   "outputs": [
    {
     "name": "stdout",
     "output_type": "stream",
     "text": [
      "0.921417756921689\n",
      "0.9089652758129884\n"
     ]
    }
   ],
   "source": [
    "#TODO: check n_components again\n",
    "reduced_azdias = reduce_data(azdias)\n",
    "reduced_customers = reduce_data(customers)"
   ]
  },
  {
   "cell_type": "markdown",
   "metadata": {},
   "source": [
    "### Clustering\n"
   ]
  },
  {
   "cell_type": "code",
   "execution_count": 70,
   "metadata": {
    "scrolled": false
   },
   "outputs": [
    {
     "name": "stdout",
     "output_type": "stream",
     "text": [
      "CPU times: user 3min 59s, sys: 1.69 s, total: 4min 1s\n",
      "Wall time: 2min 6s\n"
     ]
    },
    {
     "data": {
      "text/plain": [
       "[<matplotlib.lines.Line2D at 0x1a2f77ec50>]"
      ]
     },
     "execution_count": 70,
     "metadata": {},
     "output_type": "execute_result"
    },
    {
     "data": {
      "image/png": "[encoded data removed]",
      "text/plain": [
       "<Figure size 432x288 with 1 Axes>"
      ]
     },
     "metadata": {
      "needs_background": "light"
     },
     "output_type": "display_data"
    }
   ],
   "source": [
    "%%time\n",
    "#elbow method\n",
    "n_clusters = np.arange(1,25)\n",
    "scores = [MiniBatchKMeans(i).fit(reduced_azdias).score(reduced_azdias) for i in n_clusters]\n",
    "plt.plot(n_clusters, np.abs(scores), linestyle='-', marker='o', color='orange')"
   ]
  },
  {
   "cell_type": "code",
   "execution_count": 113,
   "metadata": {},
   "outputs": [
    {
     "name": "stdout",
     "output_type": "stream",
     "text": [
      "CPU times: user 5min 4s, sys: 19.6 s, total: 5min 24s\n",
      "Wall time: 5min 24s\n"
     ]
    }
   ],
   "source": [
    "%%time\n",
    "#refit with 8 clusters for azdias\n",
    "kmeans_k = KMeans(n_clusters=8, random_state=42)\n",
    "\n",
    "#fit and predict azdias\n",
    "prediction_azdias = kmeans_k.fit_predict(reduced_azdias)"
   ]
  },
  {
   "cell_type": "code",
   "execution_count": 114,
   "metadata": {},
   "outputs": [],
   "source": [
    "##fit and predict customers\n",
    "prediction_customers = kmeans_k.fit_predict(reduced_customers)"
   ]
  },
  {
   "cell_type": "markdown",
   "metadata": {},
   "source": [
    "## Part 2: Supervised Learning Model\n",
    "\n",
    "Now that you've found which parts of the population are more likely to be customers of the mail-order company, it's time to build a prediction model. Each of the rows in the \"MAILOUT\" data files represents an individual that was targeted for a mailout campaign. Ideally, we should be able to use the demographic information from each individual to decide whether or not it will be worth it to include that person in the campaign.\n",
    "\n",
    "The \"MAILOUT\" data has been split into two approximately equal parts, each with almost 43 000 data rows. In this part, you can verify your model with the \"TRAIN\" partition, which includes a column, \"RESPONSE\", that states whether or not a person became a customer of the company following the campaign. In the next part, you'll need to create predictions on the \"TEST\" partition, where the \"RESPONSE\" column has been withheld."
   ]
  },
  {
   "cell_type": "code",
   "execution_count": null,
   "metadata": {},
   "outputs": [],
   "source": [
    "mailout_train = pd.read_csv('../../data/Term2/capstone/arvato_data/Udacity_MAILOUT_052018_TRAIN.csv', sep=';')"
   ]
  },
  {
   "cell_type": "code",
   "execution_count": null,
   "metadata": {},
   "outputs": [],
   "source": []
  },
  {
   "cell_type": "markdown",
   "metadata": {},
   "source": [
    "## Part 3: Kaggle Competition\n",
    "\n",
    "Now that you've created a model to predict which individuals are most likely to respond to a mailout campaign, it's time to test that model in competition through Kaggle. If you click on the link [here](http://www.kaggle.com/t/21e6d45d4c574c7fa2d868f0e8c83140), you'll be taken to the competition page where, if you have a Kaggle account, you can enter. If you're one of the top performers, you may have the chance to be contacted by a hiring manager from Arvato or Bertelsmann for an interview!\n",
    "\n",
    "Your entry to the competition should be a CSV file with two columns. The first column should be a copy of \"LNR\", which acts as an ID number for each individual in the \"TEST\" partition. The second column, \"RESPONSE\", should be some measure of how likely each individual became a customer – this might not be a straightforward probability. As you should have found in Part 2, there is a large output class imbalance, where most individuals did not respond to the mailout. Thus, predicting individual classes and using accuracy does not seem to be an appropriate performance evaluation method. Instead, the competition will be using AUC to evaluate performance. The exact values of the \"RESPONSE\" column do not matter as much: only that the higher values try to capture as many of the actual customers as possible, early in the ROC curve sweep."
   ]
  },
  {
   "cell_type": "code",
   "execution_count": null,
   "metadata": {},
   "outputs": [],
   "source": [
    "mailout_test = pd.read_csv('../../data/Term2/capstone/arvato_data/Udacity_MAILOUT_052018_TEST.csv', sep=';')"
   ]
  },
  {
   "cell_type": "code",
   "execution_count": null,
   "metadata": {},
   "outputs": [],
   "source": []
  }
 ],
 "metadata": {
  "kernelspec": {
   "display_name": "Python 3",
   "language": "python",
   "name": "python3"
  },
  "language_info": {
   "codemirror_mode": {
    "name": "ipython",
    "version": 3
   },
   "file_extension": ".py",
   "mimetype": "text/x-python",
   "name": "python",
   "nbconvert_exporter": "python",
   "pygments_lexer": "ipython3",
   "version": "3.6.9"
  }
 },
 "nbformat": 4,
 "nbformat_minor": 2
}
